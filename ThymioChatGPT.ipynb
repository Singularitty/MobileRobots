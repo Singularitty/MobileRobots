{
 "cells": [
  {
   "attachments": {},
   "cell_type": "markdown",
   "metadata": {},
   "source": [
    "Connect Robot, Thymio Suite must be open and thymio must be connected to pc!"
   ]
  },
  {
   "cell_type": "code",
   "execution_count": 1,
   "metadata": {},
   "outputs": [],
   "source": [
    "import math\n",
    "import time\n",
    "import ast\n",
    "import openai\n",
    "import tdmclient.notebook\n",
    "import tdmclient.tools"
   ]
  },
  {
   "cell_type": "code",
   "execution_count": 2,
   "metadata": {},
   "outputs": [],
   "source": [
    "await tdmclient.notebook.start()"
   ]
  },
  {
   "attachments": {},
   "cell_type": "markdown",
   "metadata": {},
   "source": [
    "Thymio Program"
   ]
  },
  {
   "cell_type": "code",
   "execution_count": 3,
   "metadata": {},
   "outputs": [],
   "source": [
    "%%run_python\n",
    "\n",
    "state = 0\n",
    "\n",
    "\n",
    "@onevent\n",
    "def move(distance):\n",
    "    global motor_left_target, motor_right_target, timer_period\n",
    "    if distance > 0:\n",
    "        timer_period[0] = 160 * distance\n",
    "        motor_left_target = 200\n",
    "        motor_right_target = 200\n",
    "    if distance < 0:\n",
    "        timer_period[0] = 160 * -distance\n",
    "        motor_left_target = -200\n",
    "        motor_right_target = -200\n",
    "    if distance == 0:\n",
    "        timer_period[0] = 100\n",
    "    emit(\"motion\", 1)\n",
    "\n",
    "@onevent\n",
    "def rotate(angle):\n",
    "    global motor_left_target, motor_right_target, timer_period\n",
    "    if angle > 0:\n",
    "        timer_period[0] = angle * 26\n",
    "        motor_left_target = -100\n",
    "        motor_right_target = 100\n",
    "    if angle < 0:\n",
    "        timer_period[0] = -angle * 26\n",
    "        motor_left_target = 100\n",
    "        motor_right_target = -100\n",
    "    if angle == 0:\n",
    "        timer_period[0] = 100\n",
    "    emit(\"motion\", 1)\n",
    "\n",
    "\"\"\" @onevent\n",
    "def prox():\n",
    "    global motor_left_target, motor_right_target, prox_horizontal, state\n",
    "    if state == 0:\n",
    "        for i in range(5):\n",
    "            if prox_horizontal[i] > 2000:\n",
    "                state = 1\n",
    "                timer_period[0] = 1000\n",
    "                motor_left_target = 0\n",
    "                motor_right_target = 0\n",
    "                emit(\"problem\", 0)\n",
    "    if state == 3:\n",
    "        motor_right_target = (prox_horizontal[0] + prox_horizontal[1]) // 20\n",
    "        motor_left_target = (prox_horizontal[3] + prox_horizontal[4]) // 20 \"\"\"\n",
    "\n",
    "\n",
    "@onevent\n",
    "def turn(right_speed, left_speed, timer):\n",
    "    global motor_left_target, motor_right_target, timer_period\n",
    "    motor_left_target = left_speed\n",
    "    motor_right_target = right_speed\n",
    "    if timer == 0:\n",
    "        timer_period[0] = 100\n",
    "    else:\n",
    "        timer_period[0] = timer\n",
    "    emit(\"motion\", 1)\n",
    "\n",
    "\n",
    "@onevent\n",
    "def follow(timer):\n",
    "    global state\n",
    "    state = 3\n",
    "    timer_period[0] = timer\n",
    "\n",
    "@onevent\n",
    "def stopfollow(_):\n",
    "    global state\n",
    "    state = 0\n",
    "    timer_period[0] = 5\n",
    "\n",
    "@onevent\n",
    "def timer0():\n",
    "    global motor_left_target, motor_right_target\n",
    "    if state == 0:\n",
    "        timer_period[0] = 0\n",
    "        motor_left_target = 0\n",
    "        motor_right_target = 0\n",
    "        emit(\"done\", 0)\n",
    "    if state == 1:\n",
    "        state = 0\n",
    "    \n",
    "\n"
   ]
  },
  {
   "attachments": {},
   "cell_type": "markdown",
   "metadata": {},
   "source": [
    "Logic to run on computer"
   ]
  },
  {
   "cell_type": "code",
   "execution_count": 52,
   "metadata": {},
   "outputs": [],
   "source": [
    "import math\n",
    "\n",
    "def calculate_turn(radius, angle):\n",
    "    wheel_distance = 10.1\n",
    "    velocity = 5.8\n",
    "    \n",
    "    radian_angle = math.radians(angle)  # Convert angle from degrees to radians\n",
    "    arc_length = radius * abs(radian_angle)  # Calculate the arc length the robot needs to travel\n",
    "\n",
    "    # Calculate the target velocities for each wheel\n",
    "    if angle == 0:\n",
    "        motor_left_target = motor_right_target = velocity\n",
    "    else:\n",
    "        motor_right_target = velocity * (1 + wheel_distance / (2 * radius)) if angle > 0 else velocity * (1 - wheel_distance / (2 * radius))\n",
    "        motor_left_target = velocity * (1 - wheel_distance / (2 * radius)) if angle > 0 else velocity * (1 + wheel_distance / (2 * radius))\n",
    "\n",
    "    return int(motor_left_target * 100/3.2), int(motor_right_target * 100/3.2), int((arc_length / velocity) * 1000)\n",
    "\n",
    "\n",
    "def get_expected_time(event_name, args):\n",
    "    match event_name:\n",
    "        case \"move\":\n",
    "            return 0.16 * args[0]\n",
    "        case \"rotate\":\n",
    "            return 0.026 * args[0]\n",
    "            "
   ]
  },
  {
   "attachments": {},
   "cell_type": "markdown",
   "metadata": {},
   "source": [
    "Thymio related functions"
   ]
  },
  {
   "attachments": {},
   "cell_type": "markdown",
   "metadata": {},
   "source": [
    "Function based var updates"
   ]
  },
  {
   "cell_type": "code",
   "execution_count": 5,
   "metadata": {},
   "outputs": [],
   "source": [
    "@tdmclient.notebook.sync_var\n",
    "def update_speed(left, right):\n",
    "    motor_left_target = left\n",
    "    motor_right_target = right\n",
    "\n",
    "@tdmclient.notebook.sync_var\n",
    "def get_current_speed():\n",
    "    return motor_left_target, motor_right_target\n",
    "\n",
    "@tdmclient.notebook.sync_var\n",
    "def get_prox():\n",
    "    return prox_horizontal\n",
    "\n",
    "@tdmclient.notebook.sync_var\n",
    "def set_timer(time, i=0):\n",
    "    timer_period[i] = time * 1000"
   ]
  },
  {
   "attachments": {},
   "cell_type": "markdown",
   "metadata": {},
   "source": [
    "Event based"
   ]
  },
  {
   "cell_type": "code",
   "execution_count": 54,
   "metadata": {},
   "outputs": [
    {
     "name": "stdout",
     "output_type": "stream",
     "text": [
      "Unchecked Raise(exc=Name(id='EventTimeout', ctx=Load()))\n",
      "Unchecked MatchAs()\n"
     ]
    }
   ],
   "source": [
    "import math, signal\n",
    "\n",
    "class Done(Exception):\n",
    "    pass\n",
    "\n",
    "class Problem(Exception):\n",
    "    pass\n",
    "\n",
    "class EventTimeout(Exception):\n",
    "    pass\n",
    "\n",
    "\n",
    "# In case the robot fails to receive an event (happens alot :( ) raise this expection\n",
    "def timeout_handler(sig, NULL):\n",
    "    raise EventTimeout\n",
    "\n",
    "def parse_input(task_str):\n",
    "    actions = ast.literal_eval(task_str)\n",
    "    return actions\n",
    "\n",
    "def pop_and_send(event_list, past_events) -> bool:\n",
    "    if len(event_list) > 0:\n",
    "        event = event_list.pop(0)\n",
    "        past_events.append(event)\n",
    "        event_name = event[0]\n",
    "        match event_name:\n",
    "            case \"turn\":\n",
    "                right_speed, left_speed, timer = calculate_turn(event[1], event[2])\n",
    "                expected_time = timer / 1000\n",
    "                print(right_speed, left_speed, timer)\n",
    "                send_event(\"turn\", right_speed, left_speed, timer)\n",
    "                print(\"Sent event\")\n",
    "            case _:\n",
    "                expected_time = get_expected_time(event[0], event[1:])\n",
    "                send_event(event[0], *event[1:])\n",
    "                print(\"Sent event\")\n",
    "        # Set an alarm with the aproximate time the robot will take to complete\n",
    "        # the action plus a 1 second delay\n",
    "        signal.alarm(int(expected_time) + 1.5)\n",
    "        return True\n",
    "    else:\n",
    "        return False\n",
    "\n",
    "def execute_actions(actions): \n",
    "    # Define handler for the alarm\n",
    "    signal.signal(signal.SIGALRM, timeout_handler)\n",
    "    event_list = actions.copy()\n",
    "    past_events = []\n",
    "\n",
    "    def on_event_data(node, event_name):\n",
    "        print(f\"Receiving event data for event {event_name}\")\n",
    "        data = get_event_data(event_name)\n",
    "        print(data)\n",
    "        if event_name == \"done\":\n",
    "            clear_event_data(event_name)\n",
    "            success = pop_and_send(event_list, past_events)\n",
    "            if not success:\n",
    "                signal.alarm(0)  # Cancel the alarm\n",
    "                raise Done\n",
    "        elif event_name == \"problem\":\n",
    "            signal.alarm(0)\n",
    "            clear_event_data(event_name)\n",
    "            raise Problem\n",
    "        elif event_name == \"motion\":\n",
    "            clear_event_data(event_name)\n",
    "        else:\n",
    "            raise Exception(\"Unknown event\")\n",
    "\n",
    "    pop_and_send(event_list, past_events) \n",
    "    try:\n",
    "        tdmclient.notebook.process_events(all_nodes=False, on_event_data=on_event_data)\n",
    "    except Done:\n",
    "        print(\"Robot task completed successfully\")\n",
    "        return \"done\", None\n",
    "    except Problem:\n",
    "        print(\"Robot encounted a problem\")\n",
    "        return \"problem\", event_list\n",
    "    except EventTimeout:\n",
    "        print(\"Missed event, resending\")\n",
    "        event_list.append(past_events[-1])\n",
    "        execute_actions(event_list)\n",
    "\n",
    "\n",
    "@tdmclient.notebook.sync_var\n",
    "def main(response=None):\n",
    "    quit = False\n",
    "    if response is None:\n",
    "        tasks = [parse_input(input(\"Please input a list of actions for the robot to perform\"))]\n",
    "    else:\n",
    "        tasks = [parse_input(response)]\n",
    "    while not quit:\n",
    "        if len(tasks) > 0:\n",
    "            response, left_over_events = execute_actions(tasks.pop())\n",
    "            match response:\n",
    "                case \"done\":\n",
    "                    if len(tasks) == 0:\n",
    "                        quit = True\n",
    "                case \"problem\":\n",
    "                    if left_over_events is not None:\n",
    "                        tasks.append(left_over_events)\n",
    "                    tasks.append(parse_input(input(\"Robot encoutered a problem (*Insert short description*).\\nPlease provice extra guidance.\")))\n",
    "            "
   ]
  },
  {
   "cell_type": "code",
   "execution_count": null,
   "metadata": {},
   "outputs": [],
   "source": [
    "@tdmclient.notebook.sync_var\n",
    "def get_acc():\n",
    "    print(acc)\n",
    "\n",
    "while True:\n",
    "    get_acc()\n",
    "    time.sleep(.1)"
   ]
  },
  {
   "cell_type": "code",
   "execution_count": 53,
   "metadata": {},
   "outputs": [
    {
     "name": "stdout",
     "output_type": "stream",
     "text": [
      "89 272 5416\n",
      "Sent event\n",
      "Missed event, resending\n",
      "89 272 5416\n",
      "Sent event\n",
      "Receiving event data for event motion\n",
      "[[1]]\n",
      "Receiving event data for event done\n",
      "[[0]]\n",
      "Robot task completed successfully\n"
     ]
    },
    {
     "ename": "TypeError",
     "evalue": "cannot unpack non-iterable NoneType object",
     "output_type": "error",
     "traceback": [
      "\u001b[0;31m---------------------------------------------------------------------------\u001b[0m",
      "\u001b[0;31mTypeError\u001b[0m                                 Traceback (most recent call last)",
      "Cell \u001b[0;32mIn[53], line 1\u001b[0m\n\u001b[0;32m----> 1\u001b[0m main()\n",
      "File \u001b[0;32m~/.local/lib/python3.11/site-packages/tdmclient/notebook/private.py:182\u001b[0m, in \u001b[0;36msync_var.<locals>.func_wrapper\u001b[0;34m(*args, **kwargs)\u001b[0m\n\u001b[1;32m    180\u001b[0m vars_to_sync \u001b[39m=\u001b[39m candidates \u001b[39m&\u001b[39m {_interactive_console\u001b[39m.\u001b[39mto_python_name(name) \u001b[39mfor\u001b[39;00m name \u001b[39min\u001b[39;00m node\u001b[39m.\u001b[39mvar\u001b[39m.\u001b[39mkeys()}\n\u001b[1;32m    181\u001b[0m _interactive_console\u001b[39m.\u001b[39mfetch_variables(vars_to_sync)\n\u001b[0;32m--> 182\u001b[0m r \u001b[39m=\u001b[39m func(\u001b[39m*\u001b[39;49margs, \u001b[39m*\u001b[39;49m\u001b[39m*\u001b[39;49mkwargs)\n\u001b[1;32m    183\u001b[0m _interactive_console\u001b[39m.\u001b[39msend_variables(vars_to_sync)\n\u001b[1;32m    184\u001b[0m \u001b[39mreturn\u001b[39;00m r\n",
      "Cell \u001b[0;32mIn[6], line 93\u001b[0m, in \u001b[0;36mmain\u001b[0;34m(response)\u001b[0m\n\u001b[1;32m     91\u001b[0m \u001b[39mwhile\u001b[39;00m \u001b[39mnot\u001b[39;00m quit:\n\u001b[1;32m     92\u001b[0m     \u001b[39mif\u001b[39;00m \u001b[39mlen\u001b[39m(tasks) \u001b[39m>\u001b[39m \u001b[39m0\u001b[39m:\n\u001b[0;32m---> 93\u001b[0m         response, left_over_events \u001b[39m=\u001b[39m execute_actions(tasks\u001b[39m.\u001b[39mpop())\n\u001b[1;32m     94\u001b[0m         \u001b[39mmatch\u001b[39;00m response:\n\u001b[1;32m     95\u001b[0m             \u001b[39mcase\u001b[39;00m \u001b[39m\"\u001b[39m\u001b[39mdone\u001b[39m\u001b[39m\"\u001b[39m:\n",
      "\u001b[0;31mTypeError\u001b[0m: cannot unpack non-iterable NoneType object"
     ]
    }
   ],
   "source": [
    "main()"
   ]
  },
  {
   "attachments": {},
   "cell_type": "markdown",
   "metadata": {},
   "source": [
    "ChatGPT integration"
   ]
  },
  {
   "cell_type": "code",
   "execution_count": 55,
   "metadata": {},
   "outputs": [
    {
     "name": "stdout",
     "output_type": "stream",
     "text": [
      "GPT-3.5 Response:\n",
      "and you cannot turn sharply. Start at (0,0) facing towards the positive X direction.\n",
      "\n",
      "          [(\"move\", 5), (\"turn\", 5, 90), (\"move\", 5), (\"turn\", 5, -90), (\"move\", -5), \n",
      "           (\"rotate\", -90), (\"move\", 5), (\"turn\", 5, 90), (\"move\", 5), (\"turn\", 5, -90), \n",
      "           (\"move\", -5), (\"rotate\", -90), (\"move\", 5)]\n"
     ]
    },
    {
     "ename": "SyntaxError",
     "evalue": "invalid syntax (<unknown>, line 1)",
     "output_type": "error",
     "traceback": [
      "Traceback \u001b[0;36m(most recent call last)\u001b[0m:\n",
      "\u001b[0m  File \u001b[1;32m~/.local/lib/python3.11/site-packages/IPython/core/interactiveshell.py:3505\u001b[0m in \u001b[1;35mrun_code\u001b[0m\n    exec(code_obj, self.user_global_ns, self.user_ns)\u001b[0m\n",
      "\u001b[0m  Cell \u001b[1;32mIn[55], line 32\u001b[0m\n    main(response.choices[0].message.content)\u001b[0m\n",
      "\u001b[0m  File \u001b[1;32m~/.local/lib/python3.11/site-packages/tdmclient/notebook/private.py:182\u001b[0m in \u001b[1;35mfunc_wrapper\u001b[0m\n    r = func(*args, **kwargs)\u001b[0m\n",
      "\u001b[0m  Cell \u001b[1;32mIn[54], line 90\u001b[0m in \u001b[1;35mmain\u001b[0m\n    tasks = [parse_input(response)]\u001b[0m\n",
      "\u001b[0m  Cell \u001b[1;32mIn[54], line 18\u001b[0m in \u001b[1;35mparse_input\u001b[0m\n    actions = ast.literal_eval(task_str)\u001b[0m\n",
      "\u001b[0m  File \u001b[1;32m/usr/lib/python3.11/ast.py:62\u001b[0m in \u001b[1;35mliteral_eval\u001b[0m\n    node_or_string = parse(node_or_string.lstrip(\" \\t\"), mode='eval')\u001b[0m\n",
      "\u001b[0;36m  File \u001b[0;32m/usr/lib/python3.11/ast.py:50\u001b[0;36m in \u001b[0;35mparse\u001b[0;36m\n\u001b[0;31m    return compile(source, filename, mode, flags,\u001b[0;36m\n",
      "\u001b[0;36m  File \u001b[0;32m<unknown>:1\u001b[0;36m\u001b[0m\n\u001b[0;31m    and you cannot turn sharply. Start at (0,0) facing towards the positive X direction.\u001b[0m\n\u001b[0m    ^\u001b[0m\n\u001b[0;31mSyntaxError\u001b[0m\u001b[0;31m:\u001b[0m invalid syntax\n"
     ]
    }
   ],
   "source": [
    "with open(\"apikey\", \"r\") as file:\n",
    "    key = file.read()\n",
    "\n",
    "openai.api_key = key\n",
    "\n",
    "MODEL_GTP3_5 = \"gpt-3.5-turbo\"\n",
    "MODEL_CURIE = \"curie\"\n",
    "response = openai.ChatCompletion.create(\n",
    "    model=MODEL_GTP3_5,\n",
    "    messages=[\n",
    "        {\"role\": \"user\", \"content\": \n",
    "         \"\"\"Imagine you are a two wheeled robot with a wheelabase of 10 cm that can move in a XY plane,\n",
    "          you move through a differential drive system. The main functions you can use\n",
    "          to move arround are:\n",
    "          move(x: int): Moves the robot linearly either x cm to the front or x cm backwards.\n",
    "          rotate(angle: int): Rotates the robot by a number of degrees without changing the XY position.\n",
    "          turn(radius where radius > 5, angle): Performs a turn with the given radius and with the correspoding arc to the angle. Radius cannot be negative and must greater than 5.\n",
    "          \n",
    "          Can you give a list of actions for the robot to perform for example:\n",
    "          [(\"turn\",10,90),(\"rotate\",45),(\"move\",-10)]\n",
    "\n",
    "          Only respond in these lists\n",
    "\n",
    "          Here is your task:\n",
    "          \n",
    "          \"\"\"  + input(),\n",
    "          }\n",
    "    ]\n",
    ")\n",
    "\n",
    "print(\"GPT-3.5 Response:\")\n",
    "print(response.choices[0].message.content)\n",
    "main(response.choices[0].message.content)\n"
   ]
  },
  {
   "cell_type": "code",
   "execution_count": null,
   "metadata": {},
   "outputs": [
    {
     "data": {
      "text/plain": [
       "(59, 355, 947)"
      ]
     },
     "execution_count": 17,
     "metadata": {},
     "output_type": "execute_result"
    }
   ],
   "source": [
    "calculate_turn(7, 45)"
   ]
  },
  {
   "cell_type": "code",
   "execution_count": null,
   "metadata": {},
   "outputs": [],
   "source": []
  }
 ],
 "metadata": {
  "kernelspec": {
   "display_name": "Python 3",
   "language": "python",
   "name": "python3"
  },
  "language_info": {
   "codemirror_mode": {
    "name": "ipython",
    "version": 3
   },
   "file_extension": ".py",
   "mimetype": "text/x-python",
   "name": "python",
   "nbconvert_exporter": "python",
   "pygments_lexer": "ipython3",
   "version": "3.11.0rc1"
  },
  "orig_nbformat": 4
 },
 "nbformat": 4,
 "nbformat_minor": 2
}
