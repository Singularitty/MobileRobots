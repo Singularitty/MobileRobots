{
 "cells": [
  {
   "attachments": {},
   "cell_type": "markdown",
   "metadata": {},
   "source": [
    "Connect Robot, Thymio Suite must be open and thymio must be connected to pc!"
   ]
  },
  {
   "cell_type": "code",
   "execution_count": 7,
   "metadata": {},
   "outputs": [],
   "source": [
    "import math\n",
    "import time\n",
    "import tdmclient.notebook\n",
    "await tdmclient.notebook.start()"
   ]
  },
  {
   "attachments": {},
   "cell_type": "markdown",
   "metadata": {},
   "source": [
    "Sounds"
   ]
  },
  {
   "cell_type": "code",
   "execution_count": 3,
   "metadata": {},
   "outputs": [],
   "source": [
    "%%run_python\n",
    "nf_sound_system(5) #schock sound"
   ]
  },
  {
   "cell_type": "code",
   "execution_count": 20,
   "metadata": {},
   "outputs": [],
   "source": [
    "%%run_python\n",
    "nf_sound_system(6) #object following sound"
   ]
  },
  {
   "cell_type": "code",
   "execution_count": 8,
   "metadata": {},
   "outputs": [],
   "source": [
    "%%run_python\n",
    "nf_sound_system(7) #object detection sound"
   ]
  },
  {
   "attachments": {},
   "cell_type": "markdown",
   "metadata": {},
   "source": [
    "Let's define some basic routines, forward, backwards, rotate left and right"
   ]
  },
  {
   "cell_type": "code",
   "execution_count": 8,
   "metadata": {},
   "outputs": [],
   "source": [
    "%%run_python\n",
    "\n",
    "\n",
    "@onevent\n",
    "def foward(distance):\n",
    "    global motor_left_target, motor_right_target, timer_period, motion\n",
    "    motion = 1\n",
    "    timer_period[0] = 100 * distance\n",
    "    motor_left_target = 200\n",
    "    motor_right_target = 200\n",
    "\n",
    "\n",
    "@onevent\n",
    "def backward(distance):\n",
    "    global motor_left_target, motor_right_target, timer_period, motion\n",
    "    motion = 1\n",
    "    timer_period[0] = 100 * distance\n",
    "    motor_left_target = -200\n",
    "    motor_right_target = -200\n",
    "\n",
    "\n",
    "@onevent\n",
    "def rotateleft(angle):\n",
    "    global motor_left_target, motor_right_target, timer_period, motion\n",
    "    motion = 1\n",
    "    timer_period[0] = 35 * angle\n",
    "    motor_left_target = -50\n",
    "    motor_right_target = 100\n",
    "\n",
    "\n",
    "@onevent\n",
    "def rotateright(angle):\n",
    "    global motor_left_target, motor_right_target, timer_period, motion\n",
    "    motion = 1\n",
    "    timer_period[0] = 35 * angle\n",
    "    motor_left_target = 100\n",
    "    motor_right_target = -50\n",
    "\n",
    "\n",
    "@onevent\n",
    "def timer0():\n",
    "    global motor_left_target, motor_right_target, motion\n",
    "    motion = 0\n",
    "    motor_left_target = 0\n",
    "    motor_right_target = 0\n",
    "\n"
   ]
  },
  {
   "attachments": {},
   "cell_type": "markdown",
   "metadata": {},
   "source": [
    "Now we can ask ChatGPT for a list of events, and the robot will follow those events.  \n",
    "Still need to figure out a way to make the computer wait for the robot to be finished without using sleep()"
   ]
  },
  {
   "cell_type": "code",
   "execution_count": 9,
   "metadata": {},
   "outputs": [],
   "source": [
    "def wait_action(action, duration):\n",
    "    if action == \"foward\" or action == \"backward\":\n",
    "        time.sleep(0.001 * 100 * duration + 0.2)\n",
    "    if action == \"rotateleft\" or action == \"rotateright\":\n",
    "        time.sleep(0.001 * 35 * duration + 0.2)\n",
    "\n",
    "def execute_event_list(event_list):\n",
    "    time.sleep(1) # Sleep 1 second before sending first event, needed if using wireless to make sure first action isn't lost\n",
    "    for event, arg in event_list:\n",
    "        send_event(event, arg)\n",
    "        wait_action(event, arg)"
   ]
  },
  {
   "attachments": {},
   "cell_type": "markdown",
   "metadata": {},
   "source": [
    "Square"
   ]
  },
  {
   "cell_type": "code",
   "execution_count": 8,
   "metadata": {},
   "outputs": [],
   "source": [
    "event_list = [(\"foward\", 20),\n",
    "(\"rotateleft\", 90),\n",
    "(\"foward\", 20),\n",
    "(\"rotateleft\", 90),\n",
    "(\"foward\", 20),\n",
    "(\"rotateleft\", 90),\n",
    "(\"foward\", 20),\n",
    "(\"rotateleft\", 90)]\n",
    "\n",
    "\n",
    "\n",
    "execute_event_list(event_list)    "
   ]
  },
  {
   "attachments": {},
   "cell_type": "markdown",
   "metadata": {},
   "source": [
    "More complex movement"
   ]
  },
  {
   "cell_type": "code",
   "execution_count": 4,
   "metadata": {},
   "outputs": [],
   "source": [
    "event_list = [(\"foward\", 15),\n",
    "(\"rotateleft\", 45),\n",
    "(\"foward\", 10),\n",
    "(\"rotateleft\", 135),\n",
    "(\"foward\", 20),\n",
    "(\"rotateleft\", 90),\n",
    "(\"foward\", 10),\n",
    "(\"rotateleft\", 135),\n",
    "(\"foward\", 15),\n",
    "(\"rotateleft\", 45),\n",
    "(\"foward\", 20),\n",
    "(\"rotateleft\", 180)]\n",
    "\n",
    "execute_event_list(event_list)  "
   ]
  },
  {
   "attachments": {},
   "cell_type": "markdown",
   "metadata": {},
   "source": [
    "Zig-Zag"
   ]
  },
  {
   "cell_type": "code",
   "execution_count": 4,
   "metadata": {},
   "outputs": [],
   "source": [
    "event_list = [(\"rotateleft\", 45),\n",
    "(\"foward\", 10),\n",
    "(\"rotateleft\", 90),\n",
    "(\"foward\", 10),\n",
    "(\"rotateleft\", 90),\n",
    "(\"foward\", 10),\n",
    "(\"rotateleft\", 135),\n",
    "(\"foward\", 10),\n",
    "(\"rotateleft\", 90),\n",
    "(\"foward\", 10),\n",
    "(\"rotateleft\", 90),\n",
    "(\"foward\", 10),\n",
    "(\"rotateleft\", 45)]\n",
    "\n",
    "execute_event_list(event_list)  "
   ]
  },
  {
   "attachments": {},
   "cell_type": "markdown",
   "metadata": {},
   "source": [
    "S motion"
   ]
  },
  {
   "cell_type": "code",
   "execution_count": 7,
   "metadata": {},
   "outputs": [],
   "source": [
    "events = [(\"rotateleft\", 45), \n",
    "          (\"foward\", 10), \n",
    "          (\"rotateright\", 90), \n",
    "          (\"foward\", 10), \n",
    "          (\"rotateleft\", 90), \n",
    "          (\"foward\", 10), \n",
    "          (\"rotateright\", 90), \n",
    "          (\"foward\", 10), \n",
    "          (\"rotateleft\", 45)]\n",
    "\n",
    "execute_event_list(events)  "
   ]
  },
  {
   "attachments": {},
   "cell_type": "markdown",
   "metadata": {},
   "source": [
    "Patrol under a table"
   ]
  },
  {
   "cell_type": "code",
   "execution_count": 11,
   "metadata": {},
   "outputs": [],
   "source": [
    "clear_event_data()\n",
    "actions = [(\"foward\", 250), (\"rotateleft\", 90), (\"foward\", 70), (\"rotateleft\", 90), (\"foward\", 250), (\"rotateleft\", 90), (\"foward\", 70), (\"rotateleft\", 90)]\n",
    "execute_event_list(actions)"
   ]
  }
 ],
 "metadata": {
  "kernelspec": {
   "display_name": "Python 3",
   "language": "python",
   "name": "python3"
  },
  "language_info": {
   "codemirror_mode": {
    "name": "ipython",
    "version": 3
   },
   "file_extension": ".py",
   "mimetype": "text/x-python",
   "name": "python",
   "nbconvert_exporter": "python",
   "pygments_lexer": "ipython3",
   "version": "3.10.6"
  },
  "orig_nbformat": 4
 },
 "nbformat": 4,
 "nbformat_minor": 2
}
